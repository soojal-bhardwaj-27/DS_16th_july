{
 "cells": [
  {
   "cell_type": "code",
   "execution_count": 1,
   "id": "2d0ee261",
   "metadata": {},
   "outputs": [],
   "source": [
    "import numpy as np\n"
   ]
  },
  {
   "cell_type": "code",
   "execution_count": 2,
   "id": "378ac4c5",
   "metadata": {},
   "outputs": [
    {
     "name": "stdout",
     "output_type": "stream",
     "text": [
      "[1, 2, 3, 4, 5]\n",
      "<class 'list'>\n"
     ]
    }
   ],
   "source": [
    "lst = [1,2,3,4,5]\n",
    "print(lst)\n",
    "print(type(lst))"
   ]
  },
  {
   "cell_type": "code",
   "execution_count": null,
   "id": "7e012373",
   "metadata": {},
   "outputs": [],
   "source": [
    "arr = np.array(lst)\n",
    "print(arr)\n",
    "print(type(arr))"
   ]
  },
  {
   "cell_type": "code",
   "execution_count": null,
   "id": "de5589aa",
   "metadata": {},
   "outputs": [],
   "source": [
    "arr = np.array([1,2,3,4,5])\n",
    "arr"
   ]
  },
  {
   "cell_type": "code",
   "execution_count": null,
   "id": "a68d0b28",
   "metadata": {},
   "outputs": [],
   "source": [
    "arr = np.zeros(2)\n",
    "arr"
   ]
  },
  {
   "cell_type": "code",
   "execution_count": null,
   "id": "e6e873da",
   "metadata": {},
   "outputs": [],
   "source": [
    "arr=np.arange(4)\n",
    "arr"
   ]
  },
  {
   "cell_type": "code",
   "execution_count": null,
   "id": "2e61b3ae",
   "metadata": {},
   "outputs": [],
   "source": [
    "lst = list(range(0,10))\n",
    "print(lst)\n",
    "print(type(lst))"
   ]
  },
  {
   "cell_type": "code",
   "execution_count": null,
   "id": "eba00459",
   "metadata": {},
   "outputs": [],
   "source": [
    "arr =np.ones(5)\n",
    "arr"
   ]
  },
  {
   "cell_type": "code",
   "execution_count": null,
   "id": "a869fd79",
   "metadata": {},
   "outputs": [],
   "source": [
    "np.linspace(1,10,5)"
   ]
  },
  {
   "cell_type": "code",
   "execution_count": null,
   "id": "26fe4400",
   "metadata": {},
   "outputs": [],
   "source": [
    "np.ones(45)"
   ]
  },
  {
   "cell_type": "code",
   "execution_count": 3,
   "id": "172b00b7",
   "metadata": {},
   "outputs": [],
   "source": [
    "arr = np.arange(0,30)"
   ]
  },
  {
   "cell_type": "code",
   "execution_count": 4,
   "id": "7222cc4a",
   "metadata": {},
   "outputs": [
    {
     "data": {
      "text/plain": [
       "array([ 0,  1,  2,  3,  4,  5,  6,  7,  8,  9, 10, 11, 12, 13, 14, 15, 16,\n",
       "       17, 18, 19, 20, 21, 22, 23, 24, 25, 26, 27, 28, 29])"
      ]
     },
     "execution_count": 4,
     "metadata": {},
     "output_type": "execute_result"
    }
   ],
   "source": [
    "arr"
   ]
  },
  {
   "cell_type": "code",
   "execution_count": null,
   "id": "d2555e99",
   "metadata": {},
   "outputs": [],
   "source": [
    "arr.reshape(5,6)"
   ]
  },
  {
   "cell_type": "code",
   "execution_count": null,
   "id": "66ee4f3e",
   "metadata": {},
   "outputs": [],
   "source": [
    "arr,arr.reshape(5,6)"
   ]
  },
  {
   "cell_type": "code",
   "execution_count": null,
   "id": "6fcc0ec6",
   "metadata": {},
   "outputs": [],
   "source": [
    "arr.reshape(10,3)"
   ]
  },
  {
   "cell_type": "code",
   "execution_count": null,
   "id": "d6c75432",
   "metadata": {},
   "outputs": [],
   "source": [
    "np.random.randint(1,5,10)"
   ]
  },
  {
   "cell_type": "code",
   "execution_count": null,
   "id": "b55ee0d4",
   "metadata": {},
   "outputs": [],
   "source": [
    "np.random.random(10)"
   ]
  },
  {
   "cell_type": "code",
   "execution_count": null,
   "id": "31953c95",
   "metadata": {},
   "outputs": [],
   "source": [
    "np.random.random((5,2,6))"
   ]
  },
  {
   "cell_type": "code",
   "execution_count": null,
   "id": "ff3dcbb9",
   "metadata": {},
   "outputs": [],
   "source": [
    "arr = np.arange(60).reshape(12,5)\n",
    "print(arr)"
   ]
  },
  {
   "cell_type": "code",
   "execution_count": 5,
   "id": "0c1d94a9",
   "metadata": {},
   "outputs": [
    {
     "name": "stdout",
     "output_type": "stream",
     "text": [
      "array (30,)\n",
      "array size 30\n",
      "type of array  int64\n",
      "max 29\n",
      "min 0\n",
      "mean 14.5\n",
      "sum 435\n"
     ]
    }
   ],
   "source": [
    "print(\"array\",arr.shape)\n",
    "print(\"array size\",arr.size)\n",
    "print(\"type of array \",arr.dtype)\n",
    "print(\"max\",arr.max())\n",
    "print(\"min\",arr.min())\n",
    "print(\"mean\",arr.mean())\n",
    "print(\"sum\",arr.sum())"
   ]
  },
  {
   "cell_type": "code",
   "execution_count": 6,
   "id": "c20707b9",
   "metadata": {},
   "outputs": [
    {
     "data": {
      "text/plain": [
       "array([ 0,  1,  2,  3,  4,  5,  6,  7,  8,  9, 10, 11, 12, 13, 14, 15, 16,\n",
       "       17, 18, 19, 20, 21, 22, 23, 24, 25, 26, 27, 28, 29])"
      ]
     },
     "execution_count": 6,
     "metadata": {},
     "output_type": "execute_result"
    }
   ],
   "source": [
    "arr.flatten()"
   ]
  },
  {
   "cell_type": "code",
   "execution_count": 7,
   "id": "54fc0ede",
   "metadata": {},
   "outputs": [
    {
     "data": {
      "text/plain": [
       "array([ 0,  1,  2,  3,  4,  5,  6,  7,  8,  9, 10, 11, 12, 13, 14, 15, 16,\n",
       "       17, 18, 19, 20, 21, 22, 23, 24, 25, 26, 27, 28, 29])"
      ]
     },
     "execution_count": 7,
     "metadata": {},
     "output_type": "execute_result"
    }
   ],
   "source": [
    "arr.ravel()"
   ]
  },
  {
   "cell_type": "code",
   "execution_count": null,
   "id": "9dc470f1",
   "metadata": {},
   "outputs": [],
   "source": [
    "arr.T.shape"
   ]
  },
  {
   "cell_type": "code",
   "execution_count": null,
   "id": "a1c04821",
   "metadata": {},
   "outputs": [],
   "source": [
    "arr[0][1]"
   ]
  },
  {
   "cell_type": "code",
   "execution_count": null,
   "id": "841fe33d",
   "metadata": {},
   "outputs": [],
   "source": [
    "arr"
   ]
  },
  {
   "cell_type": "code",
   "execution_count": null,
   "id": "dd64b625",
   "metadata": {},
   "outputs": [],
   "source": [
    "arr[1][0:2]"
   ]
  },
  {
   "cell_type": "code",
   "execution_count": null,
   "id": "b7d3b7b1",
   "metadata": {},
   "outputs": [],
   "source": [
    "#1,6,11,16\n",
    "arr[0:5 ,1:2]"
   ]
  },
  {
   "cell_type": "code",
   "execution_count": null,
   "id": "1b933fb1",
   "metadata": {},
   "outputs": [],
   "source": [
    "arr[11,4]"
   ]
  },
  {
   "cell_type": "code",
   "execution_count": null,
   "id": "37224adb",
   "metadata": {},
   "outputs": [],
   "source": [
    "arr[11:12,4:5]"
   ]
  },
  {
   "cell_type": "code",
   "execution_count": null,
   "id": "9c08807a",
   "metadata": {},
   "outputs": [],
   "source": [
    "arr = np.arange(225).reshape(5,15,3)\n",
    "\n",
    "arr\n"
   ]
  },
  {
   "cell_type": "code",
   "execution_count": null,
   "id": "243ee857",
   "metadata": {},
   "outputs": [],
   "source": [
    "arr.ndim, arr.shape,arr.size,arr.dtype"
   ]
  },
  {
   "cell_type": "code",
   "execution_count": null,
   "id": "19c9a6d6",
   "metadata": {},
   "outputs": [],
   "source": [
    "arr[0]"
   ]
  },
  {
   "cell_type": "code",
   "execution_count": null,
   "id": "dfaa72ac",
   "metadata": {},
   "outputs": [],
   "source": [
    "arr[:,0,:]"
   ]
  },
  {
   "cell_type": "code",
   "execution_count": null,
   "id": "12ebbd05",
   "metadata": {},
   "outputs": [],
   "source": [
    "arr[:,0:1,0]"
   ]
  },
  {
   "cell_type": "code",
   "execution_count": null,
   "id": "a33db074",
   "metadata": {},
   "outputs": [],
   "source": [
    "arr[0][3][2]==200"
   ]
  },
  {
   "cell_type": "code",
   "execution_count": null,
   "id": "a076d373",
   "metadata": {},
   "outputs": [],
   "source": [
    "arr[0][3][2]"
   ]
  },
  {
   "cell_type": "code",
   "execution_count": null,
   "id": "0a59943e",
   "metadata": {},
   "outputs": [],
   "source": [
    "arr[0]"
   ]
  },
  {
   "cell_type": "code",
   "execution_count": null,
   "id": "6798a7fa",
   "metadata": {},
   "outputs": [],
   "source": [
    "arr=np.array([3,2,5,1,0])\n"
   ]
  },
  {
   "cell_type": "code",
   "execution_count": null,
   "id": "8402ba93",
   "metadata": {},
   "outputs": [],
   "source": [
    "arr.sort()\n",
    "arr"
   ]
  },
  {
   "cell_type": "code",
   "execution_count": null,
   "id": "6f26a641",
   "metadata": {},
   "outputs": [],
   "source": [
    "arr+2"
   ]
  },
  {
   "cell_type": "code",
   "execution_count": null,
   "id": "e7f2f097",
   "metadata": {},
   "outputs": [],
   "source": [
    "arr-2"
   ]
  },
  {
   "cell_type": "code",
   "execution_count": null,
   "id": "112eab8e",
   "metadata": {},
   "outputs": [],
   "source": [
    "arr*2"
   ]
  },
  {
   "cell_type": "code",
   "execution_count": null,
   "id": "5fc5e81a",
   "metadata": {},
   "outputs": [],
   "source": [
    "arr/arr"
   ]
  },
  {
   "cell_type": "code",
   "execution_count": null,
   "id": "a6ae1dc9",
   "metadata": {},
   "outputs": [],
   "source": [
    "arr/2"
   ]
  },
  {
   "cell_type": "code",
   "execution_count": null,
   "id": "a85d40ea",
   "metadata": {},
   "outputs": [],
   "source": [
    "arr**2"
   ]
  },
  {
   "cell_type": "code",
   "execution_count": null,
   "id": "c4a0abe6",
   "metadata": {},
   "outputs": [],
   "source": [
    "arr1=np.array([3,2,5,1,0])\n",
    "arr2=np.array([3,2,5,1,0])\n",
    "\n",
    "# arr1+arr2\n",
    "arr**2"
   ]
  }
 ],
 "metadata": {
  "kernelspec": {
   "display_name": "Python 3",
   "language": "python",
   "name": "python3"
  },
  "language_info": {
   "codemirror_mode": {
    "name": "ipython",
    "version": 3
   },
   "file_extension": ".py",
   "mimetype": "text/x-python",
   "name": "python",
   "nbconvert_exporter": "python",
   "pygments_lexer": "ipython3",
   "version": "3.13.1"
  }
 },
 "nbformat": 4,
 "nbformat_minor": 5
}
