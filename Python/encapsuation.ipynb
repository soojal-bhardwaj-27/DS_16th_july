{
 "cells": [
  {
   "cell_type": "code",
   "execution_count": null,
   "id": "22b3b3c8",
   "metadata": {},
   "outputs": [],
   "source": [
    "#encapsulation\n",
    "\n",
    "class Collage :\n",
    "     collage_name = \"abc collage\" #public\n",
    "     college_address = \"jaipur\" #public\n",
    "     _account_no = 123456 #protected\n",
    "     __password = \"1234\" #private\n",
    "\n",
    "     \n",
    "clg =Collage()"
   ]
  },
  {
   "cell_type": "code",
   "execution_count": null,
   "id": "cb6179bb",
   "metadata": {},
   "outputs": [],
   "source": [
    "clg._account_no"
   ]
  },
  {
   "cell_type": "code",
   "execution_count": null,
   "id": "749e4b3d",
   "metadata": {},
   "outputs": [],
   "source": [
    "clg._Collage__password"
   ]
  },
  {
   "cell_type": "code",
   "execution_count": null,
   "id": "45234696",
   "metadata": {},
   "outputs": [],
   "source": [
    "class Anime:\n",
    "    anime_name = \"Naruto\" #public\n",
    "    anime_type = \"Shounen\"#public\n",
    "    anime_rating = 9.5#public\n",
    "    anime_release_year = 2007#public\n",
    "    _wifu=\"hinata\"#protected\n",
    "    __manga= \"spoiler\"#private\n",
    "\n",
    "obj=Anime()"
   ]
  },
  {
   "cell_type": "code",
   "execution_count": null,
   "id": "9ac14c5f",
   "metadata": {},
   "outputs": [],
   "source": [
    "obj.anime_name"
   ]
  },
  {
   "cell_type": "code",
   "execution_count": null,
   "id": "ae43c12b",
   "metadata": {},
   "outputs": [],
   "source": [
    "obj._Anime__manga"
   ]
  },
  {
   "cell_type": "code",
   "execution_count": null,
   "id": "b87b6aac",
   "metadata": {},
   "outputs": [],
   "source": [
    "##polyporhism\n",
    "#ABSTACTION"
   ]
  },
  {
   "cell_type": "code",
   "execution_count": null,
   "id": "362935a7",
   "metadata": {},
   "outputs": [],
   "source": [
    "print()"
   ]
  }
 ],
 "metadata": {
  "kernelspec": {
   "display_name": "Python 3",
   "language": "python",
   "name": "python3"
  },
  "language_info": {
   "codemirror_mode": {
    "name": "ipython",
    "version": 3
   },
   "file_extension": ".py",
   "mimetype": "text/x-python",
   "name": "python",
   "nbconvert_exporter": "python",
   "pygments_lexer": "ipython3",
   "version": "3.13.1"
  }
 },
 "nbformat": 4,
 "nbformat_minor": 5
}
