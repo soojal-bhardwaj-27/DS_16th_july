{
 "cells": [
  {
   "cell_type": "code",
   "execution_count": null,
   "id": "44c485c2",
   "metadata": {},
   "outputs": [],
   "source": [
    "def add():\n",
    "    a = 10 \n",
    "    b = 20 \n",
    "    sum = a + b\n",
    "    print(sum)\n",
    "\n",
    "add()"
   ]
  },
  {
   "cell_type": "code",
   "execution_count": null,
   "id": "1054b2e2",
   "metadata": {},
   "outputs": [],
   "source": [
    "def add(a,b):\n",
    "    print(a*b)\n",
    "add(2,3)\n"
   ]
  },
  {
   "cell_type": "code",
   "execution_count": null,
   "id": "5bb763b4",
   "metadata": {},
   "outputs": [],
   "source": [
    "def minus(b,c):\n",
    "    print(b-c)\n",
    "minus(5,3)\n"
   ]
  },
  {
   "cell_type": "code",
   "execution_count": null,
   "id": "d24bab8f",
   "metadata": {},
   "outputs": [],
   "source": []
  },
  {
   "cell_type": "code",
   "execution_count": null,
   "id": "a4d3434d",
   "metadata": {},
   "outputs": [],
   "source": [
    "# Write a function to check if a number is prime.\n",
    "\n",
    "def prime_num(num):\n",
    "    print(num%2 != 0  )\n",
    "\n",
    "prime_num(3)"
   ]
  },
  {
   "cell_type": "code",
   "execution_count": null,
   "id": "1b721bd4",
   "metadata": {},
   "outputs": [],
   "source": [
    "def reverse_string(text):\n",
    "    print(\"Reversed string is:\", text[::-1])\n",
    "reverse_string(\"hello\")"
   ]
  },
  {
   "cell_type": "code",
   "execution_count": null,
   "id": "0dc24aa2",
   "metadata": {},
   "outputs": [],
   "source": [
    "def max(a,b,c):\n",
    "    if a>=b and a>=c:\n",
    "        print(a)\n",
    "    elif b >= a and b >= c:\n",
    "        print(b)\n",
    "    else:\n",
    "        print(c)\n",
    "\n",
    "max(1,2,3)"
   ]
  },
  {
   "cell_type": "code",
   "execution_count": null,
   "id": "91c4b8a3",
   "metadata": {},
   "outputs": [],
   "source": [
    "def avg(numbers):\n",
    "    return sum(numbers) / len(numbers)\n",
    "\n",
    "numbers = [1, 2, 3, 4, 5]\n",
    "average = avg(numbers)\n",
    "print(\"Average:\", average)"
   ]
  },
  {
   "cell_type": "code",
   "execution_count": null,
   "id": "b0f6004c",
   "metadata": {},
   "outputs": [],
   "source": [
    "def add(a,b):\n",
    "    result = a*b\n",
    "    return result \n",
    "print(add(10,20))"
   ]
  },
  {
   "cell_type": "code",
   "execution_count": null,
   "id": "513ffcc5",
   "metadata": {},
   "outputs": [],
   "source": [
    "class Student: ###class is keyword and student is class name\n",
    "    pass ## placeholder ke liye\n",
    "obj = Student() ## object obj is variable\n"
   ]
  },
  {
   "cell_type": "code",
   "execution_count": null,
   "id": "e0c90b29",
   "metadata": {},
   "outputs": [],
   "source": [
    "class Country:\n",
    "    country_name = \"India\"\n",
    "    capital = \"New Delhi\"\n",
    "    language = \"Hindi\"\n",
    "    religion = \"hindu\"\n",
    "    population = 10000000\n",
    "\n",
    "con = Country()\n",
    "con.capital\n",
    "con.language\n",
    "con.country_name\n",
    "con.population\n",
    "\n",
    "\n"
   ]
  },
  {
   "cell_type": "code",
   "execution_count": null,
   "id": "9a325360",
   "metadata": {},
   "outputs": [],
   "source": [
    "con.religion"
   ]
  },
  {
   "cell_type": "code",
   "execution_count": null,
   "id": "cd1e3d89",
   "metadata": {},
   "outputs": [],
   "source": [
    "class College:\n",
    "    college_name = \"xyz\"\n",
    "    subject = \"python\"\n",
    "    marks = 100\n",
    "    def display(self):\n",
    "        print( self.college_name)\n",
    "        print(self.subject)\n",
    "        print(self.marks)\n",
    "\n",
    "con = College()"
   ]
  },
  {
   "cell_type": "code",
   "execution_count": null,
   "id": "edeb6c9f",
   "metadata": {},
   "outputs": [],
   "source": [
    "con.display()"
   ]
  },
  {
   "cell_type": "code",
   "execution_count": null,
   "id": "6d83feb2",
   "metadata": {},
   "outputs": [],
   "source": [
    "class  Environment:\n",
    "  env_name =\"atmosphere\"\n",
    "tree = \"trees\"\n",
    "\n",
    "def display(self):\n",
    "  print(self.env_name)\n",
    "\n",
    "\n",
    "evv =  Environment()\n"
   ]
  },
  {
   "cell_type": "code",
   "execution_count": null,
   "id": "d99ae1db",
   "metadata": {},
   "outputs": [],
   "source": [
    "# pass\n",
    "# evv.display()\n"
   ]
  },
  {
   "cell_type": "code",
   "execution_count": null,
   "id": "8b8033ea",
   "metadata": {},
   "outputs": [],
   "source": [
    "#inheritance\n",
    "#single inheritance\n",
    "\n",
    "class Father :\n",
    "    pass \n",
    "class Child(Father):\n",
    "    pass"
   ]
  },
  {
   "cell_type": "code",
   "execution_count": null,
   "id": "136d55da",
   "metadata": {},
   "outputs": [],
   "source": [
    "class Father :\n",
    "  Father_name  = \"ram_lal\"  \n",
    "  Father_age = 50\n",
    "\n",
    "class Child(Father):\n",
    "  child_name = \"ritik Kumar\"\n",
    "  child_age = 22\n",
    "\n",
    "\n",
    "Child = Child()\n",
    "print(Child.Father_age)\n",
    "print(Child.Father_name)\n",
    "print(Child.child_name)\n",
    "print(Child.child_age)\n"
   ]
  },
  {
   "cell_type": "code",
   "execution_count": null,
   "id": "2f12c00d",
   "metadata": {},
   "outputs": [],
   "source": [
    "# mutli-level inheritance\n",
    "\n",
    "class Grandfather :\n",
    "    pass \n",
    "class Father (Grandfather):\n",
    "    pass\n",
    "class Child(Father):\n",
    "    pass\n",
    "\n"
   ]
  },
  {
   "cell_type": "code",
   "execution_count": null,
   "id": "31cfd816",
   "metadata": {},
   "outputs": [],
   "source": [
    "class Grandfather :\n",
    "    Grandfather_name  = \"ram_lal\"\n",
    "    Grandfather_age = 50\n",
    "\n",
    "class Father (Grandfather):\n",
    "    Father_name  = \"sooraj_lal\"\n",
    "    Father_age = 30\n",
    "\n",
    "class Child(Father):\n",
    "    child_name = \"ritik Kumar\"\n",
    "    child_age = 22\n",
    "\n",
    "Child_obj = Child()\n",
    "print(Child_obj.Grandfather_name)\n",
    "print(Child_obj.Father_name)\n",
    "print(Child_obj.child_name)"
   ]
  },
  {
   "cell_type": "code",
   "execution_count": null,
   "id": "ba57c27b",
   "metadata": {},
   "outputs": [],
   "source": [
    "# learn super method in python\n",
    "# herirchial and other "
   ]
  },
  {
   "cell_type": "code",
   "execution_count": null,
   "id": "08b5d375",
   "metadata": {},
   "outputs": [],
   "source": [
    "class Animal:\n",
    "    def __init__(self):\n",
    "        print(\"animal constructor\")\n",
    "    \n",
    "\n",
    "\n",
    "class dog(Animal):\n",
    "    def __init__(self):\n",
    "     Animal()\n",
    "        \n",
    "    print(\"dog constructor\")\n",
    "        \n",
    "\n",
    "dog_obj = dog()\n",
    "\n"
   ]
  },
  {
   "cell_type": "code",
   "execution_count": null,
   "id": "e47b471f",
   "metadata": {},
   "outputs": [],
   "source": [
    "class Animal:\n",
    "    def __init__(self):\n",
    "        print(\"animal constructor\")\n",
    "    \n",
    "\n",
    "\n",
    "class dog(Animal):\n",
    "    def __init__(self):\n",
    "     super().__init__()\n",
    "        \n",
    "    print(\"dog constructor\")\n",
    "        \n",
    "\n",
    "dog_obj = dog()\n",
    "\n"
   ]
  }
 ],
 "metadata": {
  "kernelspec": {
   "display_name": "Python 3",
   "language": "python",
   "name": "python3"
  },
  "language_info": {
   "codemirror_mode": {
    "name": "ipython",
    "version": 3
   },
   "file_extension": ".py",
   "mimetype": "text/x-python",
   "name": "python",
   "nbconvert_exporter": "python",
   "pygments_lexer": "ipython3",
   "version": "3.13.1"
  }
 },
 "nbformat": 4,
 "nbformat_minor": 5
}
