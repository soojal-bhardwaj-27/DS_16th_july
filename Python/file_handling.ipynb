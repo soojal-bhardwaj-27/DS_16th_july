{
 "cells": [
  {
   "cell_type": "code",
   "execution_count": null,
   "id": "ba1117c7",
   "metadata": {},
   "outputs": [],
   "source": [
    "#file handling \n",
    "#r = read \n",
    "#w = write\n",
    "#a = append\n",
    "#x = create"
   ]
  },
  {
   "cell_type": "code",
   "execution_count": null,
   "id": "36c80c20",
   "metadata": {},
   "outputs": [],
   "source": [
    "file = open('demo.txt','r')\n",
    "file.read()"
   ]
  },
  {
   "cell_type": "code",
   "execution_count": null,
   "id": "0c78e3cb",
   "metadata": {},
   "outputs": [],
   "source": [
    "file.close()"
   ]
  },
  {
   "cell_type": "code",
   "execution_count": null,
   "id": "38f8ec00",
   "metadata": {},
   "outputs": [],
   "source": [
    "file = open('demo.txt','w')\n",
    "file.write('hello kese ho aap kaise ho')\n",
    "file.close()\n"
   ]
  },
  {
   "cell_type": "code",
   "execution_count": null,
   "id": "00160254",
   "metadata": {},
   "outputs": [],
   "source": [
    "file = open('demo.txt','r')\n",
    "file.read()"
   ]
  },
  {
   "cell_type": "code",
   "execution_count": null,
   "id": "d93d8b31",
   "metadata": {},
   "outputs": [],
   "source": [
    "file=open ('demo.txt','a')\n",
    "file.write('ap kese ho sir')\n",
    "file.close()\n",
    "\n",
    "file = open ('demo.txt','r')\n",
    "file.read()"
   ]
  },
  {
   "cell_type": "code",
   "execution_count": null,
   "id": "93d5af60",
   "metadata": {},
   "outputs": [],
   "source": [
    "book = open('hi.txt','a')\n",
    "book.write(\"anime dekhte ho bro \")\n",
    "book.close()\n",
    "\n",
    "book = open('hi.txt','r')\n",
    "book.read()\n"
   ]
  },
  {
   "cell_type": "code",
   "execution_count": null,
   "id": "0f76ad1e",
   "metadata": {},
   "outputs": [],
   "source": [
    "file = open('anime.txt','x')\n",
    "file.write('top 10 anime ')\n",
    "file.close()\n",
    "\n",
    "\n",
    "\n",
    "file = open( 'anime.txt','r')   \n",
    "file.read()"
   ]
  }
 ],
 "metadata": {
  "kernelspec": {
   "display_name": "Python 3",
   "language": "python",
   "name": "python3"
  },
  "language_info": {
   "codemirror_mode": {
    "name": "ipython",
    "version": 3
   },
   "file_extension": ".py",
   "mimetype": "text/x-python",
   "name": "python",
   "nbconvert_exporter": "python",
   "pygments_lexer": "ipython3",
   "version": "3.13.1"
  }
 },
 "nbformat": 4,
 "nbformat_minor": 5
}
