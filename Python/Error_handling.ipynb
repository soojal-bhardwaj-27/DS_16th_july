{
 "cells": [
  {
   "cell_type": "code",
   "execution_count": null,
   "id": "c162d512",
   "metadata": {},
   "outputs": [],
   "source": []
  },
  {
   "cell_type": "code",
   "execution_count": null,
   "id": "4420f73b",
   "metadata": {},
   "outputs": [],
   "source": [
    "try : #main code\n",
    "    pass\n",
    "except : ### error handling \n",
    "    pass\n",
    "else:  ##if no error\n",
    "    pass\n",
    "finally: ## always run \n",
    "    pass"
   ]
  },
  {
   "cell_type": "code",
   "execution_count": null,
   "id": "68c0a6a0",
   "metadata": {},
   "outputs": [],
   "source": [
    "try :\n",
    "   a = int(input(\"Enter a number\"))\n",
    "   b  =  int(input(\"enter second number\"))\n",
    "   print(a/b)\n",
    "except Exception as e:\n",
    "    print('error is :-',e)\n",
    "    print(\"\"\"you can't divide by zero\"\"\")\n",
    "else:\n",
    "    print(\"print no error occured\")\n",
    "\n",
    "finally:\n",
    "    print(\"this will always run\")"
   ]
  },
  {
   "cell_type": "code",
   "execution_count": null,
   "id": "d1641b3a",
   "metadata": {},
   "outputs": [],
   "source": [
    "class Person:\n",
    "    def __init__(self, name, age):  # Constructor\n",
    "        self.name = name\n",
    "        self.age = age\n",
    "\n",
    "    def greet(self):\n",
    "        print(f\"Hello, I'm {self.name}\")\n",
    "\n",
    "# Creating an object\n",
    "p1 = Person(\"Alice\", 25)\n",
    "p1.greet()   # Output: Hello, I'm Alice\n",
    "\n"
   ]
  },
  {
   "cell_type": "code",
   "execution_count": null,
   "id": "ac36de1d",
   "metadata": {},
   "outputs": [],
   "source": [
    "class A:\n",
    "    def display(self, x=None):\n",
    "        if x:\n",
    "            print(\"Value:\", x)\n",
    "        else:\n",
    "            print(\"No value\")\n",
    "\n",
    "obj = A()\n",
    "obj.display()\n",
    "obj.display(10)"
   ]
  },
  {
   "cell_type": "code",
   "execution_count": null,
   "id": "ccb345e9",
   "metadata": {},
   "outputs": [],
   "source": [
    "class X:\n",
    "    pass\n",
    "\n",
    "class Y(X):\n",
    "    pass\n",
    "\n",
    "class Z(Y):\n",
    "    pass\n",
    "\n",
    "print(issubclass(Z, X))"
   ]
  },
  {
   "cell_type": "code",
   "execution_count": null,
   "id": "7d35d25b",
   "metadata": {},
   "outputs": [],
   "source": [
    "class MyClass:\n",
    "    def __my_private_method(self):\n",
    "        print(\"Private method\")\n",
    "\n",
    "obj = MyClass()\n",
    "obj.__my_private_method()"
   ]
  },
  {
   "cell_type": "code",
   "execution_count": null,
   "id": "c446a31f",
   "metadata": {},
   "outputs": [],
   "source": [
    "class A:\n",
    "    def __init__(self):\n",
    "        self.var = 10\n",
    "\n",
    "class B(A):\n",
    "    def __init__(self):\n",
    "        super().__init__()\n",
    "        self.var += 5\n",
    "\n",
    "obj = B()\n",
    "print(obj.var)"
   ]
  },
  {
   "cell_type": "code",
   "execution_count": null,
   "id": "8791078d",
   "metadata": {},
   "outputs": [],
   "source": [
    "class A:\n",
    "    def func(self):\n",
    "        return(\"A\")\n",
    "    \n",
    "\n",
    "class B(A):\n",
    "    def func(self):\n",
    "        return super().func()+\"->B\"\n",
    "\n",
    "obj = B()\n",
    "print(obj.func())"
   ]
  },
  {
   "cell_type": "code",
   "execution_count": null,
   "id": "7fd9fae8",
   "metadata": {},
   "outputs": [],
   "source": [
    "class A:\n",
    "    def __str__(self):\n",
    "        return \"object of A\"\n",
    "    \n",
    "    a = A()\n",
    "    print(a)"
   ]
  },
  {
   "cell_type": "code",
   "execution_count": null,
   "id": "cee7b0a5",
   "metadata": {},
   "outputs": [],
   "source": [
    "class A:\n",
    "    def display (self):\n",
    "        print(\"A\")\n",
    "    \n",
    "class B(A):\n",
    "    def display(self):\n",
    "        print(\"B\")\n",
    "        super().display()\n",
    "        \n",
    "\n",
    "obj = B()\n",
    "obj.display()"
   ]
  },
  {
   "cell_type": "code",
   "execution_count": null,
   "id": "a64e8101",
   "metadata": {},
   "outputs": [],
   "source": [
    "class Parent:\n",
    "    def show(self):\n",
    "        print(\"Parent\")\n",
    "\n",
    "class Child(Parent):\n",
    "    def show(self):\n",
    "        print(\"Child\")\n",
    "       \n",
    "\n",
    "obj = Child()\n",
    "obj.show()"
   ]
  },
  {
   "cell_type": "code",
   "execution_count": null,
   "id": "93e1c644",
   "metadata": {},
   "outputs": [],
   "source": [
    "class A:\n",
    "    def __init__(self, X):\n",
    "        self._x = X\n",
    "\n",
    "    def get_x(self):  # <--- Note the indentation and the 'def' keyword\n",
    "        return self._x\n",
    "\n",
    "a = A(5)\n",
    "print(a.get_x())  # Output: 5"
   ]
  }
 ],
 "metadata": {
  "kernelspec": {
   "display_name": "Python 3",
   "language": "python",
   "name": "python3"
  },
  "language_info": {
   "codemirror_mode": {
    "name": "ipython",
    "version": 3
   },
   "file_extension": ".py",
   "mimetype": "text/x-python",
   "name": "python",
   "nbconvert_exporter": "python",
   "pygments_lexer": "ipython3",
   "version": "3.13.1"
  }
 },
 "nbformat": 4,
 "nbformat_minor": 5
}
