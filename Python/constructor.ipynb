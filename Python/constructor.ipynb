{
 "cells": [
  {
   "cell_type": "code",
   "execution_count": null,
   "id": "f48d74d5",
   "metadata": {},
   "outputs": [],
   "source": [
    "class Country :\n",
    "    def _init_(self):\n",
    "     pass\n",
    "\n",
    "person = Country()\n"
   ]
  },
  {
   "cell_type": "code",
   "execution_count": null,
   "id": "8fcb9d1a",
   "metadata": {},
   "outputs": [],
   "source": [
    "class Collage :\n",
    "    def __inti__(self):\n",
    "        self.collage_name = \"abc collage\"\n",
    "        self.collage_address = \"jaipur\"\n",
    "        self.account_no = 123456\n",
    "        self.password = \"1234\"\n",
    "\n",
    "person = Collage()\n",
    "\n"
   ]
  },
  {
   "cell_type": "code",
   "execution_count": null,
   "id": "e1bd2bf2",
   "metadata": {},
   "outputs": [],
   "source": [
    "# person.collage_name"
   ]
  },
  {
   "cell_type": "code",
   "execution_count": null,
   "id": "6fa0d43d",
   "metadata": {},
   "outputs": [],
   "source": [
    "class Collage:\n",
    "    def __init__(self, collage_name, collage_address, account_no, password):\n",
    "        self.collage_name = collage_name\n",
    "        self.collage_address = collage_address\n",
    "        self.account_no = account_no\n",
    "        self.password = password\n",
    "\n",
    "person = Collage(collage_name=\"abc collage\", collage_address=\"jaipur\", account_no=123456, password=\"1234\")\n"
   ]
  },
  {
   "cell_type": "code",
   "execution_count": null,
   "id": "2aaf7cb0",
   "metadata": {},
   "outputs": [],
   "source": [
    "person.collage_name"
   ]
  },
  {
   "cell_type": "code",
   "execution_count": null,
   "id": "2d7637d9",
   "metadata": {},
   "outputs": [],
   "source": [
    "person.collage_address"
   ]
  },
  {
   "cell_type": "code",
   "execution_count": null,
   "id": "f786c1cc",
   "metadata": {},
   "outputs": [],
   "source": [
    "person.account_no"
   ]
  },
  {
   "cell_type": "code",
   "execution_count": null,
   "id": "9a7c142b",
   "metadata": {},
   "outputs": [],
   "source": [
    "person.password"
   ]
  },
  {
   "cell_type": "code",
   "execution_count": null,
   "id": "28e03a35",
   "metadata": {},
   "outputs": [],
   "source": [
    "class Collage:\n",
    "    def __init__(self, collage_name, collage_address, account_no, password):\n",
    "        self.collage_name = collage_name\n",
    "        self.collage_address = collage_address\n",
    "        self.account_no = account_no\n",
    "        self.password = password\n",
    "    #making method in this class\n",
    "    def display(self):\n",
    "       print(\"Collage Name : \", person.collage_name)\n",
    "       print(\"Collage Address : \", person.collage_address)\n",
    "       print(\"Account No : \", person.account_no)\n",
    "       print(\"Password : \", person.password) \n",
    "    \n",
    "\n",
    "person = Collage(collage_name=\"abc collage\", collage_address=\"jaipur\", account_no=123456, password=\"1234\")"
   ]
  },
  {
   "cell_type": "code",
   "execution_count": null,
   "id": "063195a3",
   "metadata": {},
   "outputs": [],
   "source": [
    "\n",
    "\n",
    "person.display()"
   ]
  },
  {
   "cell_type": "code",
   "execution_count": null,
   "id": "1f700ddf",
   "metadata": {},
   "outputs": [],
   "source": [
    "#make a class using inheritance, constructor, encapsulation ,method also \n",
    "#inheritance\n",
    "class University:\n",
    "    pass \n",
    "class Collage(University):\n",
    "    pass\n",
    "\n",
    "    #constructor\n",
    "    def __init__(self, collage_name, collage_address, account_no, password):\n",
    "        self.collage_name = collage_name\n",
    "        self.collage_address = collage_address\n",
    "        self.account_no = account_no\n",
    "        self._password = password #protected variable\n",
    "    #making method in this class\n",
    "    def display(self):\n",
    "       print(\"Collage Name : \", person.collage_name)\n",
    "       print(\"Collage Address : \", person.collage_address)\n",
    "       print(\"Account No : \", person.account_no)\n",
    "       print(\"Password : \", person._password)\n",
    "    \n",
    "\n",
    "person = Collage(collage_name=\"abc collage\", collage_address=\"jaipur\", account_no=123456, password=\"1234\")\n"
   ]
  },
  {
   "cell_type": "code",
   "execution_count": null,
   "id": "a069aa49",
   "metadata": {},
   "outputs": [],
   "source": [
    "person.display()"
   ]
  }
 ],
 "metadata": {
  "kernelspec": {
   "display_name": "Python 3",
   "language": "python",
   "name": "python3"
  },
  "language_info": {
   "codemirror_mode": {
    "name": "ipython",
    "version": 3
   },
   "file_extension": ".py",
   "mimetype": "text/x-python",
   "name": "python",
   "nbconvert_exporter": "python",
   "pygments_lexer": "ipython3",
   "version": "3.13.1"
  }
 },
 "nbformat": 4,
 "nbformat_minor": 5
}
