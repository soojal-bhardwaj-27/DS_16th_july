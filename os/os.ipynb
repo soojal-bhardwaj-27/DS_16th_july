{
 "cells": [
  {
   "cell_type": "code",
   "execution_count": null,
   "id": "540e6f1f",
   "metadata": {},
   "outputs": [],
   "source": [
    "import os"
   ]
  },
  {
   "cell_type": "code",
   "execution_count": null,
   "id": "caa064e7",
   "metadata": {},
   "outputs": [],
   "source": [
    "os.getcwd()## get current working directory"
   ]
  },
  {
   "cell_type": "code",
   "execution_count": null,
   "id": "48d1fd04",
   "metadata": {},
   "outputs": [],
   "source": [
    "os.listdir(\"c:/Users/Sooja/OneDrive/Desktop/DataScience/os\")## list the files in current directory"
   ]
  },
  {
   "cell_type": "code",
   "execution_count": null,
   "id": "e8821250",
   "metadata": {},
   "outputs": [],
   "source": [
    "path1 = \"c:/Users/Sooja/OneDrive/Desktop/DataScience/os\"\n"
   ]
  },
  {
   "cell_type": "code",
   "execution_count": null,
   "id": "c82a9370",
   "metadata": {},
   "outputs": [],
   "source": [
    "os.listdir(path1)"
   ]
  },
  {
   "cell_type": "code",
   "execution_count": null,
   "id": "ef4a1382",
   "metadata": {},
   "outputs": [],
   "source": [
    "os.path.getsize(r'C:\\Users\\Sooja\\OneDrive\\Desktop\\DataScience\\os\\os.ipynb')\n"
   ]
  }
 ],
 "metadata": {
  "kernelspec": {
   "display_name": "Python 3",
   "language": "python",
   "name": "python3"
  },
  "language_info": {
   "codemirror_mode": {
    "name": "ipython",
    "version": 3
   },
   "file_extension": ".py",
   "mimetype": "text/x-python",
   "name": "python",
   "nbconvert_exporter": "python",
   "pygments_lexer": "ipython3",
   "version": "3.13.1"
  }
 },
 "nbformat": 4,
 "nbformat_minor": 5
}
